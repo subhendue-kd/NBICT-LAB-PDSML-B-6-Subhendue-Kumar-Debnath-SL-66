{
  "nbformat": 4,
  "nbformat_minor": 0,
  "metadata": {
    "colab": {
      "provenance": [],
      "authorship_tag": "ABX9TyP5FDiREwsYCnKnhsLhRF01",
      "include_colab_link": true
    },
    "kernelspec": {
      "name": "python3",
      "display_name": "Python 3"
    },
    "language_info": {
      "name": "python"
    }
  },
  "cells": [
    {
      "cell_type": "markdown",
      "metadata": {
        "id": "view-in-github",
        "colab_type": "text"
      },
      "source": [
        "<a href=\"https://colab.research.google.com/github/subhendue-kd/NBICT-LAB-PDSML-B-6-Subhendue-Kumar-Debnath-SL-66/blob/main/Decision%20Tree%20Regression%20(Part-I)/DTR_(Part_1).ipynb\" target=\"_parent\"><img src=\"https://colab.research.google.com/assets/colab-badge.svg\" alt=\"Open In Colab\"/></a>"
      ]
    },
    {
      "cell_type": "markdown",
      "source": [
        "#Decision Tree Regression (part-1)"
      ],
      "metadata": {
        "id": "Rs13jYXl_Ykn"
      }
    },
    {
      "cell_type": "code",
      "source": [],
      "metadata": {
        "id": "pSp4i1TT-5f5"
      },
      "execution_count": null,
      "outputs": []
    }
  ]
}